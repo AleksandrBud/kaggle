{
 "cells": [
  {
   "cell_type": "code",
   "execution_count": 1,
   "metadata": {},
   "outputs": [],
   "source": [
    "import pandas as pd\n",
    "import numpy as np\n",
    "import missingno as msno\n",
    "import xgboost as xgb\n",
    "# from sklearn.model_selection import train_test_split"
   ]
  },
  {
   "cell_type": "code",
   "execution_count": 2,
   "metadata": {},
   "outputs": [],
   "source": [
    "pd.set_option('display.max_columns', 10)\n",
    "# pd.set_option('display.max_rows', None) "
   ]
  },
  {
   "cell_type": "code",
   "execution_count": 4,
   "metadata": {},
   "outputs": [
    {
     "data": {
      "text/html": [
       "<div>\n",
       "<style scoped>\n",
       "    .dataframe tbody tr th:only-of-type {\n",
       "        vertical-align: middle;\n",
       "    }\n",
       "\n",
       "    .dataframe tbody tr th {\n",
       "        vertical-align: top;\n",
       "    }\n",
       "\n",
       "    .dataframe thead th {\n",
       "        text-align: right;\n",
       "    }\n",
       "</style>\n",
       "<table border=\"1\" class=\"dataframe\">\n",
       "  <thead>\n",
       "    <tr style=\"text-align: right;\">\n",
       "      <th></th>\n",
       "      <th>TransactionID</th>\n",
       "      <th>isFraud</th>\n",
       "      <th>TransactionDT</th>\n",
       "      <th>TransactionAmt</th>\n",
       "      <th>ProductCD</th>\n",
       "      <th>...</th>\n",
       "      <th>V335</th>\n",
       "      <th>V336</th>\n",
       "      <th>V337</th>\n",
       "      <th>V338</th>\n",
       "      <th>V339</th>\n",
       "    </tr>\n",
       "  </thead>\n",
       "  <tbody>\n",
       "    <tr>\n",
       "      <th>0</th>\n",
       "      <td>2987000</td>\n",
       "      <td>0</td>\n",
       "      <td>86400</td>\n",
       "      <td>68.5</td>\n",
       "      <td>W</td>\n",
       "      <td>...</td>\n",
       "      <td>NaN</td>\n",
       "      <td>NaN</td>\n",
       "      <td>NaN</td>\n",
       "      <td>NaN</td>\n",
       "      <td>NaN</td>\n",
       "    </tr>\n",
       "    <tr>\n",
       "      <th>1</th>\n",
       "      <td>2987001</td>\n",
       "      <td>0</td>\n",
       "      <td>86401</td>\n",
       "      <td>29.0</td>\n",
       "      <td>W</td>\n",
       "      <td>...</td>\n",
       "      <td>NaN</td>\n",
       "      <td>NaN</td>\n",
       "      <td>NaN</td>\n",
       "      <td>NaN</td>\n",
       "      <td>NaN</td>\n",
       "    </tr>\n",
       "    <tr>\n",
       "      <th>2</th>\n",
       "      <td>2987002</td>\n",
       "      <td>0</td>\n",
       "      <td>86469</td>\n",
       "      <td>59.0</td>\n",
       "      <td>W</td>\n",
       "      <td>...</td>\n",
       "      <td>NaN</td>\n",
       "      <td>NaN</td>\n",
       "      <td>NaN</td>\n",
       "      <td>NaN</td>\n",
       "      <td>NaN</td>\n",
       "    </tr>\n",
       "    <tr>\n",
       "      <th>3</th>\n",
       "      <td>2987003</td>\n",
       "      <td>0</td>\n",
       "      <td>86499</td>\n",
       "      <td>50.0</td>\n",
       "      <td>W</td>\n",
       "      <td>...</td>\n",
       "      <td>NaN</td>\n",
       "      <td>NaN</td>\n",
       "      <td>NaN</td>\n",
       "      <td>NaN</td>\n",
       "      <td>NaN</td>\n",
       "    </tr>\n",
       "    <tr>\n",
       "      <th>4</th>\n",
       "      <td>2987004</td>\n",
       "      <td>0</td>\n",
       "      <td>86506</td>\n",
       "      <td>50.0</td>\n",
       "      <td>H</td>\n",
       "      <td>...</td>\n",
       "      <td>0.0</td>\n",
       "      <td>0.0</td>\n",
       "      <td>0.0</td>\n",
       "      <td>0.0</td>\n",
       "      <td>0.0</td>\n",
       "    </tr>\n",
       "  </tbody>\n",
       "</table>\n",
       "<p>5 rows × 394 columns</p>\n",
       "</div>"
      ],
      "text/plain": [
       "   TransactionID  isFraud  TransactionDT  TransactionAmt ProductCD  ...  V335  \\\n",
       "0        2987000        0          86400            68.5         W  ...   NaN   \n",
       "1        2987001        0          86401            29.0         W  ...   NaN   \n",
       "2        2987002        0          86469            59.0         W  ...   NaN   \n",
       "3        2987003        0          86499            50.0         W  ...   NaN   \n",
       "4        2987004        0          86506            50.0         H  ...   0.0   \n",
       "\n",
       "   V336  V337 V338  V339  \n",
       "0   NaN   NaN  NaN   NaN  \n",
       "1   NaN   NaN  NaN   NaN  \n",
       "2   NaN   NaN  NaN   NaN  \n",
       "3   NaN   NaN  NaN   NaN  \n",
       "4   0.0   0.0  0.0   0.0  \n",
       "\n",
       "[5 rows x 394 columns]"
      ]
     },
     "execution_count": 4,
     "metadata": {},
     "output_type": "execute_result"
    }
   ],
   "source": [
    "df = pd.read_csv('assignment_2_train.csv')\n",
    "df.head(5)"
   ]
  },
  {
   "cell_type": "code",
   "execution_count": 4,
   "metadata": {},
   "outputs": [
    {
     "data": {
      "text/plain": [
       "(180000, 394)"
      ]
     },
     "execution_count": 4,
     "metadata": {},
     "output_type": "execute_result"
    }
   ],
   "source": [
    "df.shape"
   ]
  },
  {
   "cell_type": "code",
   "execution_count": 5,
   "metadata": {},
   "outputs": [
    {
     "data": {
      "text/html": [
       "<div>\n",
       "<style scoped>\n",
       "    .dataframe tbody tr th:only-of-type {\n",
       "        vertical-align: middle;\n",
       "    }\n",
       "\n",
       "    .dataframe tbody tr th {\n",
       "        vertical-align: top;\n",
       "    }\n",
       "\n",
       "    .dataframe thead th {\n",
       "        text-align: right;\n",
       "    }\n",
       "</style>\n",
       "<table border=\"1\" class=\"dataframe\">\n",
       "  <thead>\n",
       "    <tr style=\"text-align: right;\">\n",
       "      <th></th>\n",
       "      <th>TransactionID</th>\n",
       "      <th>isFraud</th>\n",
       "      <th>TransactionDT</th>\n",
       "      <th>TransactionAmt</th>\n",
       "      <th>card1</th>\n",
       "      <th>...</th>\n",
       "      <th>V335</th>\n",
       "      <th>V336</th>\n",
       "      <th>V337</th>\n",
       "      <th>V338</th>\n",
       "      <th>V339</th>\n",
       "    </tr>\n",
       "  </thead>\n",
       "  <tbody>\n",
       "    <tr>\n",
       "      <th>count</th>\n",
       "      <td>1.800000e+05</td>\n",
       "      <td>180000.000000</td>\n",
       "      <td>1.800000e+05</td>\n",
       "      <td>180000.000000</td>\n",
       "      <td>180000.000000</td>\n",
       "      <td>...</td>\n",
       "      <td>47996.000000</td>\n",
       "      <td>47996.000000</td>\n",
       "      <td>47996.000000</td>\n",
       "      <td>47996.000000</td>\n",
       "      <td>47996.000000</td>\n",
       "    </tr>\n",
       "    <tr>\n",
       "      <th>mean</th>\n",
       "      <td>3.077000e+06</td>\n",
       "      <td>0.028561</td>\n",
       "      <td>1.909818e+06</td>\n",
       "      <td>129.514237</td>\n",
       "      <td>9860.225806</td>\n",
       "      <td>...</td>\n",
       "      <td>18.404676</td>\n",
       "      <td>12.437524</td>\n",
       "      <td>26.798593</td>\n",
       "      <td>32.005349</td>\n",
       "      <td>28.492421</td>\n",
       "    </tr>\n",
       "    <tr>\n",
       "      <th>std</th>\n",
       "      <td>5.196167e+04</td>\n",
       "      <td>0.166570</td>\n",
       "      <td>1.039029e+06</td>\n",
       "      <td>206.515032</td>\n",
       "      <td>4910.778205</td>\n",
       "      <td>...</td>\n",
       "      <td>120.896921</td>\n",
       "      <td>99.305885</td>\n",
       "      <td>252.695682</td>\n",
       "      <td>284.870583</td>\n",
       "      <td>258.372941</td>\n",
       "    </tr>\n",
       "    <tr>\n",
       "      <th>min</th>\n",
       "      <td>2.987000e+06</td>\n",
       "      <td>0.000000</td>\n",
       "      <td>8.640000e+04</td>\n",
       "      <td>0.292000</td>\n",
       "      <td>1001.000000</td>\n",
       "      <td>...</td>\n",
       "      <td>0.000000</td>\n",
       "      <td>0.000000</td>\n",
       "      <td>0.000000</td>\n",
       "      <td>0.000000</td>\n",
       "      <td>0.000000</td>\n",
       "    </tr>\n",
       "    <tr>\n",
       "      <th>25%</th>\n",
       "      <td>3.032000e+06</td>\n",
       "      <td>0.000000</td>\n",
       "      <td>1.091681e+06</td>\n",
       "      <td>44.000000</td>\n",
       "      <td>6019.000000</td>\n",
       "      <td>...</td>\n",
       "      <td>0.000000</td>\n",
       "      <td>0.000000</td>\n",
       "      <td>0.000000</td>\n",
       "      <td>0.000000</td>\n",
       "      <td>0.000000</td>\n",
       "    </tr>\n",
       "    <tr>\n",
       "      <th>50%</th>\n",
       "      <td>3.077000e+06</td>\n",
       "      <td>0.000000</td>\n",
       "      <td>1.884075e+06</td>\n",
       "      <td>75.000000</td>\n",
       "      <td>9633.000000</td>\n",
       "      <td>...</td>\n",
       "      <td>0.000000</td>\n",
       "      <td>0.000000</td>\n",
       "      <td>0.000000</td>\n",
       "      <td>0.000000</td>\n",
       "      <td>0.000000</td>\n",
       "    </tr>\n",
       "    <tr>\n",
       "      <th>75%</th>\n",
       "      <td>3.121999e+06</td>\n",
       "      <td>0.000000</td>\n",
       "      <td>2.693196e+06</td>\n",
       "      <td>125.000000</td>\n",
       "      <td>14182.000000</td>\n",
       "      <td>...</td>\n",
       "      <td>0.000000</td>\n",
       "      <td>0.000000</td>\n",
       "      <td>0.000000</td>\n",
       "      <td>0.000000</td>\n",
       "      <td>0.000000</td>\n",
       "    </tr>\n",
       "    <tr>\n",
       "      <th>max</th>\n",
       "      <td>3.166999e+06</td>\n",
       "      <td>1.000000</td>\n",
       "      <td>3.958317e+06</td>\n",
       "      <td>5278.950000</td>\n",
       "      <td>18396.000000</td>\n",
       "      <td>...</td>\n",
       "      <td>3350.000000</td>\n",
       "      <td>3250.000000</td>\n",
       "      <td>8250.000000</td>\n",
       "      <td>8250.000000</td>\n",
       "      <td>8250.000000</td>\n",
       "    </tr>\n",
       "  </tbody>\n",
       "</table>\n",
       "<p>8 rows × 380 columns</p>\n",
       "</div>"
      ],
      "text/plain": [
       "       TransactionID        isFraud  TransactionDT  TransactionAmt  \\\n",
       "count   1.800000e+05  180000.000000   1.800000e+05   180000.000000   \n",
       "mean    3.077000e+06       0.028561   1.909818e+06      129.514237   \n",
       "std     5.196167e+04       0.166570   1.039029e+06      206.515032   \n",
       "min     2.987000e+06       0.000000   8.640000e+04        0.292000   \n",
       "25%     3.032000e+06       0.000000   1.091681e+06       44.000000   \n",
       "50%     3.077000e+06       0.000000   1.884075e+06       75.000000   \n",
       "75%     3.121999e+06       0.000000   2.693196e+06      125.000000   \n",
       "max     3.166999e+06       1.000000   3.958317e+06     5278.950000   \n",
       "\n",
       "               card1  ...          V335          V336          V337  \\\n",
       "count  180000.000000  ...  47996.000000  47996.000000  47996.000000   \n",
       "mean     9860.225806  ...     18.404676     12.437524     26.798593   \n",
       "std      4910.778205  ...    120.896921     99.305885    252.695682   \n",
       "min      1001.000000  ...      0.000000      0.000000      0.000000   \n",
       "25%      6019.000000  ...      0.000000      0.000000      0.000000   \n",
       "50%      9633.000000  ...      0.000000      0.000000      0.000000   \n",
       "75%     14182.000000  ...      0.000000      0.000000      0.000000   \n",
       "max     18396.000000  ...   3350.000000   3250.000000   8250.000000   \n",
       "\n",
       "               V338          V339  \n",
       "count  47996.000000  47996.000000  \n",
       "mean      32.005349     28.492421  \n",
       "std      284.870583    258.372941  \n",
       "min        0.000000      0.000000  \n",
       "25%        0.000000      0.000000  \n",
       "50%        0.000000      0.000000  \n",
       "75%        0.000000      0.000000  \n",
       "max     8250.000000   8250.000000  \n",
       "\n",
       "[8 rows x 380 columns]"
      ]
     },
     "execution_count": 5,
     "metadata": {},
     "output_type": "execute_result"
    }
   ],
   "source": [
    "df.describe()"
   ]
  },
  {
   "cell_type": "code",
   "execution_count": 5,
   "metadata": {},
   "outputs": [],
   "source": [
    "df_train = df[:round(df.shape[0]*0.8)].copy()\n",
    "df_valid = df[round(df.shape[0]*0.8):df.shape[0]].copy()"
   ]
  },
  {
   "cell_type": "code",
   "execution_count": 18,
   "metadata": {},
   "outputs": [],
   "source": [
    "df_train_category = df[:round(df.shape[0]*0.8)].copy()\n",
    "df_valid_category = df[round(df.shape[0]*0.8):df.shape[0]].copy()"
   ]
  },
  {
   "cell_type": "code",
   "execution_count": 64,
   "metadata": {},
   "outputs": [
    {
     "name": "stdout",
     "output_type": "stream",
     "text": [
      "(144000, 394) (36000, 394)\n"
     ]
    }
   ],
   "source": [
    "print(df_train.shape, df_valid.shape)"
   ]
  },
  {
   "cell_type": "code",
   "execution_count": 6,
   "metadata": {},
   "outputs": [
    {
     "name": "stdout",
     "output_type": "stream",
     "text": [
      "count of object_features 14\n"
     ]
    },
    {
     "data": {
      "text/plain": [
       "['ProductCD',\n",
       " 'card4',\n",
       " 'card6',\n",
       " 'P_emaildomain',\n",
       " 'R_emaildomain',\n",
       " 'M1',\n",
       " 'M2',\n",
       " 'M3',\n",
       " 'M4',\n",
       " 'M5',\n",
       " 'M6',\n",
       " 'M7',\n",
       " 'M8',\n",
       " 'M9']"
      ]
     },
     "execution_count": 6,
     "metadata": {},
     "output_type": "execute_result"
    }
   ],
   "source": [
    "object_features = df_train.select_dtypes(include=[np.object])\n",
    "print(f\"count of object_features {object_features.shape[1]}\")\n",
    "\n",
    "object_features_col = list(object_features.columns)\n",
    "object_features_col"
   ]
  },
  {
   "cell_type": "code",
   "execution_count": 6,
   "metadata": {},
   "outputs": [
    {
     "data": {
      "text/html": [
       "<div>\n",
       "<style scoped>\n",
       "    .dataframe tbody tr th:only-of-type {\n",
       "        vertical-align: middle;\n",
       "    }\n",
       "\n",
       "    .dataframe tbody tr th {\n",
       "        vertical-align: top;\n",
       "    }\n",
       "\n",
       "    .dataframe thead th {\n",
       "        text-align: right;\n",
       "    }\n",
       "</style>\n",
       "<table border=\"1\" class=\"dataframe\">\n",
       "  <thead>\n",
       "    <tr style=\"text-align: right;\">\n",
       "      <th></th>\n",
       "      <th>ProductCD</th>\n",
       "      <th>card4</th>\n",
       "      <th>card6</th>\n",
       "      <th>P_emaildomain</th>\n",
       "      <th>R_emaildomain</th>\n",
       "      <th>...</th>\n",
       "      <th>M5</th>\n",
       "      <th>M6</th>\n",
       "      <th>M7</th>\n",
       "      <th>M8</th>\n",
       "      <th>M9</th>\n",
       "    </tr>\n",
       "  </thead>\n",
       "  <tbody>\n",
       "    <tr>\n",
       "      <th>0</th>\n",
       "      <td>W</td>\n",
       "      <td>discover</td>\n",
       "      <td>credit</td>\n",
       "      <td>NaN</td>\n",
       "      <td>NaN</td>\n",
       "      <td>...</td>\n",
       "      <td>F</td>\n",
       "      <td>T</td>\n",
       "      <td>NaN</td>\n",
       "      <td>NaN</td>\n",
       "      <td>NaN</td>\n",
       "    </tr>\n",
       "    <tr>\n",
       "      <th>1</th>\n",
       "      <td>W</td>\n",
       "      <td>mastercard</td>\n",
       "      <td>credit</td>\n",
       "      <td>gmail.com</td>\n",
       "      <td>NaN</td>\n",
       "      <td>...</td>\n",
       "      <td>T</td>\n",
       "      <td>T</td>\n",
       "      <td>NaN</td>\n",
       "      <td>NaN</td>\n",
       "      <td>NaN</td>\n",
       "    </tr>\n",
       "    <tr>\n",
       "      <th>2</th>\n",
       "      <td>W</td>\n",
       "      <td>visa</td>\n",
       "      <td>debit</td>\n",
       "      <td>outlook.com</td>\n",
       "      <td>NaN</td>\n",
       "      <td>...</td>\n",
       "      <td>F</td>\n",
       "      <td>F</td>\n",
       "      <td>F</td>\n",
       "      <td>F</td>\n",
       "      <td>F</td>\n",
       "    </tr>\n",
       "    <tr>\n",
       "      <th>3</th>\n",
       "      <td>W</td>\n",
       "      <td>mastercard</td>\n",
       "      <td>debit</td>\n",
       "      <td>yahoo.com</td>\n",
       "      <td>NaN</td>\n",
       "      <td>...</td>\n",
       "      <td>T</td>\n",
       "      <td>F</td>\n",
       "      <td>NaN</td>\n",
       "      <td>NaN</td>\n",
       "      <td>NaN</td>\n",
       "    </tr>\n",
       "    <tr>\n",
       "      <th>4</th>\n",
       "      <td>H</td>\n",
       "      <td>mastercard</td>\n",
       "      <td>credit</td>\n",
       "      <td>gmail.com</td>\n",
       "      <td>NaN</td>\n",
       "      <td>...</td>\n",
       "      <td>NaN</td>\n",
       "      <td>NaN</td>\n",
       "      <td>NaN</td>\n",
       "      <td>NaN</td>\n",
       "      <td>NaN</td>\n",
       "    </tr>\n",
       "  </tbody>\n",
       "</table>\n",
       "<p>5 rows × 14 columns</p>\n",
       "</div>"
      ],
      "text/plain": [
       "  ProductCD       card4   card6 P_emaildomain R_emaildomain  ...   M5   M6  \\\n",
       "0         W    discover  credit           NaN           NaN  ...    F    T   \n",
       "1         W  mastercard  credit     gmail.com           NaN  ...    T    T   \n",
       "2         W        visa   debit   outlook.com           NaN  ...    F    F   \n",
       "3         W  mastercard   debit     yahoo.com           NaN  ...    T    F   \n",
       "4         H  mastercard  credit     gmail.com           NaN  ...  NaN  NaN   \n",
       "\n",
       "    M7   M8   M9  \n",
       "0  NaN  NaN  NaN  \n",
       "1  NaN  NaN  NaN  \n",
       "2    F    F    F  \n",
       "3  NaN  NaN  NaN  \n",
       "4  NaN  NaN  NaN  \n",
       "\n",
       "[5 rows x 14 columns]"
      ]
     },
     "execution_count": 6,
     "metadata": {},
     "output_type": "execute_result"
    }
   ],
   "source": [
    "df_train[object_features_col].head(5)"
   ]
  },
  {
   "cell_type": "code",
   "execution_count": 7,
   "metadata": {},
   "outputs": [
    {
     "name": "stdout",
     "output_type": "stream",
     "text": [
      "count of numeric_features 380\n"
     ]
    },
    {
     "data": {
      "text/plain": [
       "Index(['TransactionID', 'isFraud', 'TransactionDT', 'TransactionAmt', 'card1',\n",
       "       'card2', 'card3', 'card5', 'addr1', 'addr2',\n",
       "       ...\n",
       "       'V330', 'V331', 'V332', 'V333', 'V334', 'V335', 'V336', 'V337', 'V338',\n",
       "       'V339'],\n",
       "      dtype='object', length=380)"
      ]
     },
     "execution_count": 7,
     "metadata": {},
     "output_type": "execute_result"
    }
   ],
   "source": [
    "numerical_features = df_train.select_dtypes(include=[np.number])\n",
    "print(f\"count of numeric_features {numerical_features.shape[1]}\")\n",
    "\n",
    "numerical_features.columns"
   ]
  },
  {
   "cell_type": "code",
   "execution_count": 8,
   "metadata": {},
   "outputs": [
    {
     "name": "stdout",
     "output_type": "stream",
     "text": [
      "Continuous Feature Count 378\n"
     ]
    }
   ],
   "source": [
    "continuous_feature = [\n",
    "    feature for feature in numerical_features\n",
    "    if feature not in [\"TransactionID\", \"isFraud\"]]\n",
    "\n",
    "print(f\"Continuous Feature Count {len(continuous_feature)}\")"
   ]
  },
  {
   "cell_type": "code",
   "execution_count": 9,
   "metadata": {},
   "outputs": [],
   "source": [
    "obj_and_dig = continuous_feature + object_features_col"
   ]
  },
  {
   "cell_type": "code",
   "execution_count": 10,
   "metadata": {},
   "outputs": [],
   "source": [
    "target = 'isFraud'"
   ]
  },
  {
   "cell_type": "code",
   "execution_count": 17,
   "metadata": {},
   "outputs": [
    {
     "data": {
      "text/html": [
       "<div>\n",
       "<style scoped>\n",
       "    .dataframe tbody tr th:only-of-type {\n",
       "        vertical-align: middle;\n",
       "    }\n",
       "\n",
       "    .dataframe tbody tr th {\n",
       "        vertical-align: top;\n",
       "    }\n",
       "\n",
       "    .dataframe thead th {\n",
       "        text-align: right;\n",
       "    }\n",
       "</style>\n",
       "<table border=\"1\" class=\"dataframe\">\n",
       "  <thead>\n",
       "    <tr style=\"text-align: right;\">\n",
       "      <th></th>\n",
       "      <th>TransactionDT</th>\n",
       "      <th>TransactionAmt</th>\n",
       "      <th>card1</th>\n",
       "      <th>card2</th>\n",
       "      <th>card3</th>\n",
       "      <th>...</th>\n",
       "      <th>V335</th>\n",
       "      <th>V336</th>\n",
       "      <th>V337</th>\n",
       "      <th>V338</th>\n",
       "      <th>V339</th>\n",
       "    </tr>\n",
       "  </thead>\n",
       "  <tbody>\n",
       "    <tr>\n",
       "      <th>count</th>\n",
       "      <td>1.440000e+05</td>\n",
       "      <td>144000.000000</td>\n",
       "      <td>144000.000000</td>\n",
       "      <td>142057.000000</td>\n",
       "      <td>143997.000000</td>\n",
       "      <td>...</td>\n",
       "      <td>45081.000000</td>\n",
       "      <td>45081.000000</td>\n",
       "      <td>45081.000000</td>\n",
       "      <td>45081.000000</td>\n",
       "      <td>45081.000000</td>\n",
       "    </tr>\n",
       "    <tr>\n",
       "      <th>mean</th>\n",
       "      <td>1.529852e+06</td>\n",
       "      <td>127.722069</td>\n",
       "      <td>9867.081715</td>\n",
       "      <td>370.664888</td>\n",
       "      <td>153.539782</td>\n",
       "      <td>...</td>\n",
       "      <td>17.764731</td>\n",
       "      <td>12.464351</td>\n",
       "      <td>27.619025</td>\n",
       "      <td>32.538314</td>\n",
       "      <td>29.031416</td>\n",
       "    </tr>\n",
       "    <tr>\n",
       "      <th>std</th>\n",
       "      <td>7.786533e+05</td>\n",
       "      <td>199.985644</td>\n",
       "      <td>4923.876088</td>\n",
       "      <td>159.151352</td>\n",
       "      <td>11.607701</td>\n",
       "      <td>...</td>\n",
       "      <td>121.750867</td>\n",
       "      <td>101.047370</td>\n",
       "      <td>260.004327</td>\n",
       "      <td>292.002110</td>\n",
       "      <td>264.609907</td>\n",
       "    </tr>\n",
       "    <tr>\n",
       "      <th>min</th>\n",
       "      <td>8.640000e+04</td>\n",
       "      <td>0.292000</td>\n",
       "      <td>1001.000000</td>\n",
       "      <td>100.000000</td>\n",
       "      <td>100.000000</td>\n",
       "      <td>...</td>\n",
       "      <td>0.000000</td>\n",
       "      <td>0.000000</td>\n",
       "      <td>0.000000</td>\n",
       "      <td>0.000000</td>\n",
       "      <td>0.000000</td>\n",
       "    </tr>\n",
       "    <tr>\n",
       "      <th>25%</th>\n",
       "      <td>8.721920e+05</td>\n",
       "      <td>44.075000</td>\n",
       "      <td>6019.000000</td>\n",
       "      <td>215.000000</td>\n",
       "      <td>150.000000</td>\n",
       "      <td>...</td>\n",
       "      <td>0.000000</td>\n",
       "      <td>0.000000</td>\n",
       "      <td>0.000000</td>\n",
       "      <td>0.000000</td>\n",
       "      <td>0.000000</td>\n",
       "    </tr>\n",
       "    <tr>\n",
       "      <th>50%</th>\n",
       "      <td>1.615718e+06</td>\n",
       "      <td>75.000000</td>\n",
       "      <td>9633.000000</td>\n",
       "      <td>385.000000</td>\n",
       "      <td>150.000000</td>\n",
       "      <td>...</td>\n",
       "      <td>0.000000</td>\n",
       "      <td>0.000000</td>\n",
       "      <td>0.000000</td>\n",
       "      <td>0.000000</td>\n",
       "      <td>0.000000</td>\n",
       "    </tr>\n",
       "    <tr>\n",
       "      <th>75%</th>\n",
       "      <td>2.139948e+06</td>\n",
       "      <td>126.000000</td>\n",
       "      <td>14276.000000</td>\n",
       "      <td>514.000000</td>\n",
       "      <td>150.000000</td>\n",
       "      <td>...</td>\n",
       "      <td>0.000000</td>\n",
       "      <td>0.000000</td>\n",
       "      <td>0.000000</td>\n",
       "      <td>0.000000</td>\n",
       "      <td>0.000000</td>\n",
       "    </tr>\n",
       "    <tr>\n",
       "      <th>max</th>\n",
       "      <td>2.956469e+06</td>\n",
       "      <td>5094.950000</td>\n",
       "      <td>18396.000000</td>\n",
       "      <td>600.000000</td>\n",
       "      <td>231.000000</td>\n",
       "      <td>...</td>\n",
       "      <td>3350.000000</td>\n",
       "      <td>3250.000000</td>\n",
       "      <td>8250.000000</td>\n",
       "      <td>8250.000000</td>\n",
       "      <td>8250.000000</td>\n",
       "    </tr>\n",
       "  </tbody>\n",
       "</table>\n",
       "<p>8 rows × 378 columns</p>\n",
       "</div>"
      ],
      "text/plain": [
       "       TransactionDT  TransactionAmt          card1          card2  \\\n",
       "count   1.440000e+05   144000.000000  144000.000000  142057.000000   \n",
       "mean    1.529852e+06      127.722069    9867.081715     370.664888   \n",
       "std     7.786533e+05      199.985644    4923.876088     159.151352   \n",
       "min     8.640000e+04        0.292000    1001.000000     100.000000   \n",
       "25%     8.721920e+05       44.075000    6019.000000     215.000000   \n",
       "50%     1.615718e+06       75.000000    9633.000000     385.000000   \n",
       "75%     2.139948e+06      126.000000   14276.000000     514.000000   \n",
       "max     2.956469e+06     5094.950000   18396.000000     600.000000   \n",
       "\n",
       "               card3  ...          V335          V336          V337  \\\n",
       "count  143997.000000  ...  45081.000000  45081.000000  45081.000000   \n",
       "mean      153.539782  ...     17.764731     12.464351     27.619025   \n",
       "std        11.607701  ...    121.750867    101.047370    260.004327   \n",
       "min       100.000000  ...      0.000000      0.000000      0.000000   \n",
       "25%       150.000000  ...      0.000000      0.000000      0.000000   \n",
       "50%       150.000000  ...      0.000000      0.000000      0.000000   \n",
       "75%       150.000000  ...      0.000000      0.000000      0.000000   \n",
       "max       231.000000  ...   3350.000000   3250.000000   8250.000000   \n",
       "\n",
       "               V338          V339  \n",
       "count  45081.000000  45081.000000  \n",
       "mean      32.538314     29.031416  \n",
       "std      292.002110    264.609907  \n",
       "min        0.000000      0.000000  \n",
       "25%        0.000000      0.000000  \n",
       "50%        0.000000      0.000000  \n",
       "75%        0.000000      0.000000  \n",
       "max     8250.000000   8250.000000  \n",
       "\n",
       "[8 rows x 378 columns]"
      ]
     },
     "execution_count": 17,
     "metadata": {},
     "output_type": "execute_result"
    }
   ],
   "source": [
    "df_train[continuous_feature].describe()"
   ]
  },
  {
   "cell_type": "code",
   "execution_count": 11,
   "metadata": {},
   "outputs": [],
   "source": [
    "for feature in object_features:\n",
    "    namber_val = 0\n",
    "    for unic_val in df_train[feature].unique():\n",
    "        namber_val += 1\n",
    "        df_train.loc[df_train[feature] == unic_val, feature] = namber_val\n",
    "        df_valid.loc[df_valid[feature] == unic_val, feature] = namber_val\n",
    "    df_train[feature] = pd.to_numeric(df_train[feature])\n",
    "    df_valid[feature] = pd.to_numeric(df_valid[feature])"
   ]
  },
  {
   "cell_type": "markdown",
   "metadata": {},
   "source": [
    "## XGBoost "
   ]
  },
  {
   "cell_type": "code",
   "execution_count": 14,
   "metadata": {},
   "outputs": [],
   "source": [
    "params = {\n",
    "    \"booster\": \"gbtree\",\n",
    "    \"objective\": \"binary:logistic\",\n",
    "    \"eval_metric\": \"auc\",\n",
    "    \"learning_rate\": 0.1,\n",
    "    \"n_estimators\": 100,\n",
    "    \"reg_lambda\": 100,\n",
    "    \"max_depth\": 10,\n",
    "    \"gamma\": 10,\n",
    "    \"nthread\": 6,\n",
    "    \"seed\": 27\n",
    "}"
   ]
  },
  {
   "cell_type": "code",
   "execution_count": 38,
   "metadata": {},
   "outputs": [],
   "source": [
    "dtrain = xgb.DMatrix(\n",
    "    data=df_train[continuous_feature], label=df_train[target]\n",
    ")\n",
    "dvalid = xgb.DMatrix(\n",
    "    data=df_valid[continuous_feature], label=df_valid[target]\n",
    ")"
   ]
  },
  {
   "cell_type": "code",
   "execution_count": 42,
   "metadata": {},
   "outputs": [
    {
     "name": "stdout",
     "output_type": "stream",
     "text": [
      "[0]\ttrain-auc:0.64131\tvalid-auc:0.63913\n",
      "Multiple eval metrics have been passed: 'valid-auc' will be used for early stopping.\n",
      "\n",
      "Will train until valid-auc hasn't improved in 20 rounds.\n",
      "[10]\ttrain-auc:0.79263\tvalid-auc:0.79753\n",
      "[20]\ttrain-auc:0.83832\tvalid-auc:0.83801\n",
      "[30]\ttrain-auc:0.87529\tvalid-auc:0.85721\n",
      "[40]\ttrain-auc:0.88696\tvalid-auc:0.86088\n",
      "[50]\ttrain-auc:0.89655\tvalid-auc:0.87270\n",
      "[60]\ttrain-auc:0.90250\tvalid-auc:0.87724\n",
      "[70]\ttrain-auc:0.90754\tvalid-auc:0.88091\n",
      "[80]\ttrain-auc:0.91092\tvalid-auc:0.88334\n",
      "[90]\ttrain-auc:0.91360\tvalid-auc:0.88413\n",
      "[99]\ttrain-auc:0.91612\tvalid-auc:0.88703\n"
     ]
    }
   ],
   "source": [
    "model = xgb.train(\n",
    "    params=params,\n",
    "    dtrain=dtrain,\n",
    "    num_boost_round=100,\n",
    "    early_stopping_rounds=20,\n",
    "    evals=[(dtrain, \"train\"), (dvalid, \"valid\")],\n",
    "    verbose_eval=10,\n",
    "    maximize=True,\n",
    ")"
   ]
  },
  {
   "cell_type": "code",
   "execution_count": 23,
   "metadata": {},
   "outputs": [],
   "source": [
    "dtrain2 = xgb.DMatrix(\n",
    "    data=df_train[obj_and_dig], label=df_train[target]\n",
    ")\n",
    "dvalid2 = xgb.DMatrix(\n",
    "    data=df_valid[obj_and_dig], label=df_valid[target]\n",
    ")"
   ]
  },
  {
   "cell_type": "code",
   "execution_count": 24,
   "metadata": {},
   "outputs": [
    {
     "name": "stdout",
     "output_type": "stream",
     "text": [
      "[0]\ttrain-auc:0.64131\tvalid-auc:0.63913\n",
      "Multiple eval metrics have been passed: 'valid-auc' will be used for early stopping.\n",
      "\n",
      "Will train until valid-auc hasn't improved in 20 rounds.\n",
      "[10]\ttrain-auc:0.79264\tvalid-auc:0.79753\n",
      "[20]\ttrain-auc:0.86040\tvalid-auc:0.84586\n",
      "[30]\ttrain-auc:0.87652\tvalid-auc:0.85310\n",
      "[40]\ttrain-auc:0.89047\tvalid-auc:0.86075\n",
      "[50]\ttrain-auc:0.90219\tvalid-auc:0.86481\n",
      "[60]\ttrain-auc:0.91023\tvalid-auc:0.87490\n",
      "[70]\ttrain-auc:0.91608\tvalid-auc:0.88086\n",
      "[80]\ttrain-auc:0.91976\tvalid-auc:0.88455\n",
      "[90]\ttrain-auc:0.92274\tvalid-auc:0.88649\n",
      "[99]\ttrain-auc:0.92503\tvalid-auc:0.88810\n"
     ]
    }
   ],
   "source": [
    "model2 = xgb.train(\n",
    "    params=params,\n",
    "    dtrain=dtrain2,\n",
    "    num_boost_round=100,\n",
    "    early_stopping_rounds=20,\n",
    "    evals=[(dtrain2, \"train\"), (dvalid2, \"valid\")],\n",
    "    verbose_eval=10,\n",
    "    maximize=True,\n",
    ")"
   ]
  },
  {
   "cell_type": "markdown",
   "metadata": {},
   "source": [
    "## LightGBM"
   ]
  },
  {
   "cell_type": "code",
   "execution_count": 12,
   "metadata": {},
   "outputs": [],
   "source": [
    "import lightgbm as lgb"
   ]
  },
  {
   "cell_type": "code",
   "execution_count": 13,
   "metadata": {},
   "outputs": [],
   "source": [
    "params_lgb = {\n",
    "    \"boosting_type\": \"gbdt\",\n",
    "    \"objective\": \"binary\",\n",
    "    \"metric\": \"auc\",\n",
    "    \"learning_rate\": 0.1,\n",
    "    \"n_estimators\": 100,\n",
    "    \"n_jobs\": 2,\n",
    "    \"seed\": 27\n",
    "}"
   ]
  },
  {
   "cell_type": "code",
   "execution_count": 14,
   "metadata": {},
   "outputs": [],
   "source": [
    "dtrain_lgb = lgb.Dataset(\n",
    "    data=df_train[continuous_feature], label=df_train[target]\n",
    ")\n",
    "dvalid_lgb = lgb.Dataset(\n",
    "    data=df_valid[continuous_feature], label=df_valid[target]\n",
    ")"
   ]
  },
  {
   "cell_type": "code",
   "execution_count": 15,
   "metadata": {},
   "outputs": [
    {
     "name": "stderr",
     "output_type": "stream",
     "text": [
      "/home/aleksandr/anaconda3/lib/python3.7/site-packages/lightgbm/engine.py:148: UserWarning: Found `n_estimators` in params. Will use it instead of argument\n",
      "  warnings.warn(\"Found `{}` in params. Will use it instead of argument\".format(alias))\n"
     ]
    },
    {
     "name": "stdout",
     "output_type": "stream",
     "text": [
      "Training until validation scores don't improve for 20 rounds\n",
      "[10]\ttraining's auc: 0.892023\tvalid_1's auc: 0.869761\n",
      "[20]\ttraining's auc: 0.909402\tvalid_1's auc: 0.880656\n",
      "[30]\ttraining's auc: 0.92492\tvalid_1's auc: 0.886609\n",
      "[40]\ttraining's auc: 0.938239\tvalid_1's auc: 0.894222\n",
      "[50]\ttraining's auc: 0.946974\tvalid_1's auc: 0.898087\n",
      "[60]\ttraining's auc: 0.952641\tvalid_1's auc: 0.899962\n",
      "[70]\ttraining's auc: 0.957052\tvalid_1's auc: 0.902165\n",
      "[80]\ttraining's auc: 0.96245\tvalid_1's auc: 0.903298\n",
      "[90]\ttraining's auc: 0.966559\tvalid_1's auc: 0.904594\n",
      "[100]\ttraining's auc: 0.970139\tvalid_1's auc: 0.905538\n",
      "Did not meet early stopping. Best iteration is:\n",
      "[100]\ttraining's auc: 0.970139\tvalid_1's auc: 0.905538\n"
     ]
    }
   ],
   "source": [
    "model_lgb = lgb.train(\n",
    "    params=params_lgb,\n",
    "    train_set=dtrain_lgb,\n",
    "    num_boost_round=100,\n",
    "    valid_sets=[dtrain_lgb, dvalid_lgb],\n",
    "    early_stopping_rounds=20,\n",
    "    verbose_eval=10\n",
    ")"
   ]
  },
  {
   "cell_type": "code",
   "execution_count": 36,
   "metadata": {},
   "outputs": [],
   "source": [
    "dtrain_lgb = lgb.Dataset(\n",
    "    data=df_train[obj_and_dig], label=df_train[target]\n",
    ")\n",
    "dvalid_lgb = lgb.Dataset(\n",
    "    data=df_valid[obj_and_dig], label=df_valid[target]\n",
    ")"
   ]
  },
  {
   "cell_type": "code",
   "execution_count": 17,
   "metadata": {},
   "outputs": [
    {
     "name": "stdout",
     "output_type": "stream",
     "text": [
      "Training until validation scores don't improve for 20 rounds\n",
      "[10]\ttraining's auc: 0.89663\tvalid_1's auc: 0.863318\n",
      "[20]\ttraining's auc: 0.917335\tvalid_1's auc: 0.874342\n",
      "[30]\ttraining's auc: 0.932657\tvalid_1's auc: 0.88574\n",
      "[40]\ttraining's auc: 0.944797\tvalid_1's auc: 0.894003\n",
      "[50]\ttraining's auc: 0.953274\tvalid_1's auc: 0.898292\n",
      "[60]\ttraining's auc: 0.959292\tvalid_1's auc: 0.904721\n",
      "[70]\ttraining's auc: 0.965812\tvalid_1's auc: 0.906735\n",
      "[80]\ttraining's auc: 0.970435\tvalid_1's auc: 0.907959\n",
      "[90]\ttraining's auc: 0.97416\tvalid_1's auc: 0.90762\n",
      "[100]\ttraining's auc: 0.976796\tvalid_1's auc: 0.909656\n",
      "Did not meet early stopping. Best iteration is:\n",
      "[100]\ttraining's auc: 0.976796\tvalid_1's auc: 0.909656\n"
     ]
    }
   ],
   "source": [
    "model_lgb2 = lgb.train(\n",
    "    params=params_lgb,\n",
    "    train_set=dtrain_lgb,\n",
    "    num_boost_round=100,\n",
    "    valid_sets=[dtrain_lgb, dvalid_lgb],\n",
    "    early_stopping_rounds=20,\n",
    "    verbose_eval=10\n",
    ")"
   ]
  },
  {
   "cell_type": "code",
   "execution_count": 15,
   "metadata": {},
   "outputs": [
    {
     "name": "stderr",
     "output_type": "stream",
     "text": [
      "/home/aleksandr/anaconda3/lib/python3.7/site-packages/lightgbm/engine.py:148: UserWarning: Found `n_estimators` in params. Will use it instead of argument\n",
      "  warnings.warn(\"Found `{}` in params. Will use it instead of argument\".format(alias))\n"
     ]
    },
    {
     "name": "stdout",
     "output_type": "stream",
     "text": [
      "Training until validation scores don't improve for 20 rounds\n",
      "[10]\ttraining's auc: 0.892023\tvalid_1's auc: 0.869761\n",
      "[20]\ttraining's auc: 0.909402\tvalid_1's auc: 0.880656\n",
      "[30]\ttraining's auc: 0.92492\tvalid_1's auc: 0.886609\n",
      "[40]\ttraining's auc: 0.938239\tvalid_1's auc: 0.894222\n",
      "[50]\ttraining's auc: 0.946974\tvalid_1's auc: 0.898087\n",
      "[60]\ttraining's auc: 0.952641\tvalid_1's auc: 0.899962\n",
      "[70]\ttraining's auc: 0.957052\tvalid_1's auc: 0.902165\n",
      "[80]\ttraining's auc: 0.96245\tvalid_1's auc: 0.903298\n",
      "[90]\ttraining's auc: 0.966559\tvalid_1's auc: 0.904594\n",
      "[100]\ttraining's auc: 0.970139\tvalid_1's auc: 0.905538\n",
      "Did not meet early stopping. Best iteration is:\n",
      "[100]\ttraining's auc: 0.970139\tvalid_1's auc: 0.905538\n"
     ]
    }
   ],
   "source": [
    "model_lgb3 = lgb.train(\n",
    "    params=params_lgb,\n",
    "    train_set=dtrain_lgb,\n",
    "    num_boost_round=100,\n",
    "    categorical_feature=\"auto\",\n",
    "    valid_sets=[dtrain_lgb, dvalid_lgb],\n",
    "    early_stopping_rounds=20,\n",
    "    verbose_eval=10,\n",
    ")"
   ]
  },
  {
   "cell_type": "markdown",
   "metadata": {},
   "source": [
    "## CatBoost"
   ]
  },
  {
   "cell_type": "code",
   "execution_count": 16,
   "metadata": {},
   "outputs": [],
   "source": [
    "import catboost as cb"
   ]
  },
  {
   "cell_type": "code",
   "execution_count": 17,
   "metadata": {},
   "outputs": [],
   "source": [
    "cb_params = {\n",
    "    \"n_estimators\": 100,\n",
    "    \"loss_function\": \"Logloss\",\n",
    "    \"eval_metric\": \"AUC\",\n",
    "    \"task_type\": \"CPU\",\n",
    "    \"max_bin\": 20,\n",
    "    \"verbose\": 10,\n",
    "    \"max_depth\": 10,\n",
    "    \"l2_leaf_reg\": 100,\n",
    "    \"early_stopping_rounds\": 20,\n",
    "    \"thread_count\": 2,\n",
    "    \"random_seed\": 27\n",
    "}"
   ]
  },
  {
   "cell_type": "code",
   "execution_count": 20,
   "metadata": {},
   "outputs": [
    {
     "name": "stdout",
     "output_type": "stream",
     "text": [
      "0:\ttest: 0.6485616\ttest1: 0.5794154\tbest: 0.5794154 (0)\ttotal: 1.35s\tremaining: 2m 14s\n",
      "10:\ttest: 0.8227130\ttest1: 0.7959778\tbest: 0.7959778 (10)\ttotal: 13.6s\tremaining: 1m 49s\n",
      "20:\ttest: 0.8370829\ttest1: 0.8183242\tbest: 0.8184439 (18)\ttotal: 25.9s\tremaining: 1m 37s\n",
      "30:\ttest: 0.8467320\ttest1: 0.8226845\tbest: 0.8226845 (30)\ttotal: 38.8s\tremaining: 1m 26s\n",
      "40:\ttest: 0.8550070\ttest1: 0.8333528\tbest: 0.8344817 (39)\ttotal: 51.3s\tremaining: 1m 13s\n",
      "50:\ttest: 0.8620891\ttest1: 0.8403463\tbest: 0.8417666 (48)\ttotal: 1m 2s\tremaining: 1m\n",
      "60:\ttest: 0.8647337\ttest1: 0.8435624\tbest: 0.8435624 (60)\ttotal: 1m 15s\tremaining: 48.2s\n",
      "70:\ttest: 0.8669438\ttest1: 0.8452529\tbest: 0.8455735 (68)\ttotal: 1m 27s\tremaining: 35.9s\n",
      "80:\ttest: 0.8682912\ttest1: 0.8448355\tbest: 0.8456940 (72)\ttotal: 1m 40s\tremaining: 23.6s\n",
      "90:\ttest: 0.8694562\ttest1: 0.8467578\tbest: 0.8467578 (90)\ttotal: 1m 53s\tremaining: 11.2s\n",
      "99:\ttest: 0.8706538\ttest1: 0.8474504\tbest: 0.8478128 (95)\ttotal: 2m 5s\tremaining: 0us\n",
      "\n",
      "bestTest = 0.8478127617\n",
      "bestIteration = 95\n",
      "\n",
      "Shrink model to first 96 iterations.\n"
     ]
    },
    {
     "data": {
      "text/plain": [
       "<catboost.core.CatBoostClassifier at 0x7f646e5b0a10>"
      ]
     },
     "execution_count": 20,
     "metadata": {},
     "output_type": "execute_result"
    }
   ],
   "source": [
    "model_cb = cb.CatBoostClassifier(**cb_params)\n",
    "model_cb.fit(df_train[continuous_feature], df_train[target],\n",
    "             eval_set=[(df_train[continuous_feature], df_train[target]),\n",
    "                       (df_valid[continuous_feature], df_valid[target])\n",
    "                      ]\n",
    "            )"
   ]
  },
  {
   "cell_type": "code",
   "execution_count": 21,
   "metadata": {},
   "outputs": [
    {
     "name": "stdout",
     "output_type": "stream",
     "text": [
      "0:\ttest: 0.6639600\ttest1: 0.5775589\tbest: 0.5775589 (0)\ttotal: 1.24s\tremaining: 2m 2s\n",
      "10:\ttest: 0.8012865\ttest1: 0.7751651\tbest: 0.7751651 (10)\ttotal: 13.4s\tremaining: 1m 48s\n",
      "20:\ttest: 0.8342819\ttest1: 0.8037390\tbest: 0.8061733 (19)\ttotal: 25.8s\tremaining: 1m 37s\n",
      "30:\ttest: 0.8462875\ttest1: 0.8239714\tbest: 0.8239714 (30)\ttotal: 38.4s\tremaining: 1m 25s\n",
      "40:\ttest: 0.8545706\ttest1: 0.8338340\tbest: 0.8359394 (38)\ttotal: 50.9s\tremaining: 1m 13s\n",
      "50:\ttest: 0.8644419\ttest1: 0.8426839\tbest: 0.8426839 (50)\ttotal: 1m 3s\tremaining: 1m\n",
      "60:\ttest: 0.8692805\ttest1: 0.8482810\tbest: 0.8482810 (60)\ttotal: 1m 15s\tremaining: 48s\n",
      "70:\ttest: 0.8739599\ttest1: 0.8511378\tbest: 0.8511378 (70)\ttotal: 1m 27s\tremaining: 35.6s\n",
      "80:\ttest: 0.8762780\ttest1: 0.8530291\tbest: 0.8530291 (80)\ttotal: 1m 39s\tremaining: 23.3s\n",
      "90:\ttest: 0.8795741\ttest1: 0.8537470\tbest: 0.8537470 (90)\ttotal: 1m 50s\tremaining: 11s\n",
      "99:\ttest: 0.8813956\ttest1: 0.8548694\tbest: 0.8548694 (99)\ttotal: 2m 2s\tremaining: 0us\n",
      "\n",
      "bestTest = 0.8548693945\n",
      "bestIteration = 99\n",
      "\n"
     ]
    },
    {
     "data": {
      "text/plain": [
       "<catboost.core.CatBoostClassifier at 0x7f646e51ae50>"
      ]
     },
     "execution_count": 21,
     "metadata": {},
     "output_type": "execute_result"
    }
   ],
   "source": [
    "model_cb2 = cb.CatBoostClassifier(**cb_params)\n",
    "model_cb2.fit(df_train[obj_and_dig], df_train[target],\n",
    "             eval_set=[(df_train[obj_and_dig], df_train[target]),\n",
    "                       (df_valid[obj_and_dig], df_valid[target])\n",
    "                      ]\n",
    "            )"
   ]
  },
  {
   "cell_type": "code",
   "execution_count": 23,
   "metadata": {},
   "outputs": [],
   "source": [
    "df_train_category[object_features_col] = df_train_category[object_features_col].fillna('space')\n",
    "df_valid_category[object_features_col] = df_valid_category[object_features_col].fillna('space')"
   ]
  },
  {
   "cell_type": "code",
   "execution_count": 24,
   "metadata": {},
   "outputs": [
    {
     "name": "stdout",
     "output_type": "stream",
     "text": [
      "0:\ttest: 0.6801172\ttest1: 0.6881362\tbest: 0.6881362 (0)\ttotal: 3.32s\tremaining: 5m 28s\n",
      "10:\ttest: 0.8096569\ttest1: 0.8074129\tbest: 0.8088343 (8)\ttotal: 19.9s\tremaining: 2m 40s\n",
      "20:\ttest: 0.8256781\ttest1: 0.8070352\tbest: 0.8091926 (14)\ttotal: 36.7s\tremaining: 2m 18s\n",
      "30:\ttest: 0.8431389\ttest1: 0.8219585\tbest: 0.8219585 (30)\ttotal: 53s\tremaining: 1m 57s\n",
      "40:\ttest: 0.8529222\ttest1: 0.8336821\tbest: 0.8358722 (38)\ttotal: 1m 8s\tremaining: 1m 38s\n",
      "50:\ttest: 0.8598114\ttest1: 0.8422745\tbest: 0.8422745 (50)\ttotal: 1m 23s\tremaining: 1m 20s\n",
      "60:\ttest: 0.8635678\ttest1: 0.8462138\tbest: 0.8465213 (59)\ttotal: 1m 39s\tremaining: 1m 3s\n",
      "70:\ttest: 0.8658335\ttest1: 0.8472609\tbest: 0.8472609 (70)\ttotal: 1m 56s\tremaining: 47.5s\n",
      "80:\ttest: 0.8688677\ttest1: 0.8481864\tbest: 0.8487551 (77)\ttotal: 2m 11s\tremaining: 30.9s\n",
      "90:\ttest: 0.8723565\ttest1: 0.8498490\tbest: 0.8499594 (89)\ttotal: 2m 26s\tremaining: 14.5s\n",
      "99:\ttest: 0.8758774\ttest1: 0.8519658\tbest: 0.8519658 (99)\ttotal: 2m 39s\tremaining: 0us\n",
      "\n",
      "bestTest = 0.8519657579\n",
      "bestIteration = 99\n",
      "\n"
     ]
    },
    {
     "data": {
      "text/plain": [
       "<catboost.core.CatBoostClassifier at 0x7f0ab84d77d0>"
      ]
     },
     "execution_count": 24,
     "metadata": {},
     "output_type": "execute_result"
    }
   ],
   "source": [
    "model_cb3 = cb.CatBoostClassifier(**cb_params)\n",
    "model_cb3.fit(df_train_category[obj_and_dig], df_train_category[target]\n",
    "              ,eval_set=[(df_train_category[obj_and_dig], df_train_category[target])\n",
    "                        ,(df_valid_category[obj_and_dig], df_valid_category[target])\n",
    "                      ]\n",
    "              ,cat_features=object_features_col\n",
    "            )"
   ]
  },
  {
   "cell_type": "code",
   "execution_count": null,
   "metadata": {},
   "outputs": [],
   "source": []
  }
 ],
 "metadata": {
  "kernelspec": {
   "display_name": "Python 3",
   "language": "python",
   "name": "python3"
  },
  "language_info": {
   "codemirror_mode": {
    "name": "ipython",
    "version": 3
   },
   "file_extension": ".py",
   "mimetype": "text/x-python",
   "name": "python",
   "nbconvert_exporter": "python",
   "pygments_lexer": "ipython3",
   "version": "3.7.6"
  }
 },
 "nbformat": 4,
 "nbformat_minor": 4
}
